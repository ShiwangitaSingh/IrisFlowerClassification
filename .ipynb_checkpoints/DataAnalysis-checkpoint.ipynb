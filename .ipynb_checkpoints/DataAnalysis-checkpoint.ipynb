{
 "cells": [
  {
   "cell_type": "markdown",
   "id": "1b67a843-a2fa-4c04-937f-9f40cced193e",
   "metadata": {},
   "source": [
    "### **Analysis of Iris Flower Dataset**"
   ]
  },
  {
   "cell_type": "code",
   "execution_count": null,
   "id": "51706b27-95f8-47fa-ae0f-92a793fa1d28",
   "metadata": {},
   "outputs": [],
   "source": [
    "# Importing libraries\n",
    "import pandas as pd\n",
    "import matplotlib.pyplot as plt\n",
    "import seaborn as sns"
   ]
  },
  {
   "cell_type": "markdown",
   "id": "43d9b914-53a6-49e6-be37-3b139549494e",
   "metadata": {},
   "source": [
    "### **Data Collection**"
   ]
  },
  {
   "cell_type": "code",
   "execution_count": null,
   "id": "37222daf-5d6d-4e2d-b64d-9d06170cbb71",
   "metadata": {},
   "outputs": [],
   "source": [
    "# Reading dataset\n",
    "df = pd.read_csv('C:\\\\Users\\\\shiwa\\\\Downloads\\\\Iris Flower - Iris.csv')"
   ]
  },
  {
   "cell_type": "code",
   "execution_count": null,
   "id": "e196466e-1614-4c18-b990-9bf83e18e255",
   "metadata": {},
   "outputs": [],
   "source": [
    "df.head()"
   ]
  },
  {
   "cell_type": "code",
   "execution_count": null,
   "id": "ff8fb37d-1cfb-4ea5-8d4a-d4477fe551b5",
   "metadata": {},
   "outputs": [],
   "source": [
    "df.describe()"
   ]
  },
  {
   "cell_type": "markdown",
   "id": "a401a071-fbd9-4451-bf60-1d6b88e2b23b",
   "metadata": {},
   "source": [
    "### **Data Cleaning**"
   ]
  },
  {
   "cell_type": "markdown",
   "id": "2092a611-f292-4944-a0ee-5dd9f5072335",
   "metadata": {},
   "source": [
    "**Null Values**"
   ]
  },
  {
   "cell_type": "code",
   "execution_count": null,
   "id": "f58ec29a-afbd-424f-8dc4-bddd0030a18c",
   "metadata": {},
   "outputs": [],
   "source": [
    "# Checking for null values\n",
    "df.isnull().sum()"
   ]
  },
  {
   "cell_type": "markdown",
   "id": "42365f8b-4030-45b4-944d-f109084f30ca",
   "metadata": {},
   "source": [
    "**Duplicated Values**"
   ]
  },
  {
   "cell_type": "code",
   "execution_count": null,
   "id": "598e0ea6-a1f9-4af5-98af-2cc6d6479111",
   "metadata": {},
   "outputs": [],
   "source": [
    "# Checking for duplicated values\n",
    "df.duplicated().sum()"
   ]
  },
  {
   "cell_type": "code",
   "execution_count": null,
   "id": "a0e7d99f-9b19-4ec2-9a9e-5f3d848bd179",
   "metadata": {},
   "outputs": [],
   "source": [
    "df2 = df.drop(['Species'], axis = 1, inplace = False)"
   ]
  },
  {
   "cell_type": "markdown",
   "id": "35b92d3c-d3c8-4248-8ae2-6d2b492e1ed0",
   "metadata": {},
   "source": [
    "**Outliers**"
   ]
  },
  {
   "cell_type": "code",
   "execution_count": null,
   "id": "04058992-648c-4d01-a733-61f80f494e6c",
   "metadata": {},
   "outputs": [],
   "source": [
    "# Calculating IQR\n",
    "Q3 = df2.quantile(0.75)\n",
    "Q1 = df2.quantile(0.25)\n",
    "IQR = Q3 - Q1\n",
    "IQR"
   ]
  },
  {
   "cell_type": "code",
   "execution_count": null,
   "id": "a425f7f3-0c11-4f25-b7c6-f8e5809c2e1e",
   "metadata": {},
   "outputs": [],
   "source": [
    "# Finding Outliers\n",
    "up = Q3 + 1.5*IQR\n",
    "lb = Q1 - 1.5*IQR\n",
    "outliers = df2[((df2 < lb)| (df2 > up)).any(axis=1)]\n",
    "outliers.sum().sum()"
   ]
  },
  {
   "cell_type": "code",
   "execution_count": null,
   "id": "9a1b2adb-7030-447e-ba49-0801aecc936e",
   "metadata": {},
   "outputs": [],
   "source": [
    "# Removing outliers\n",
    "df2 = df2.drop(outliers.index)\n",
    "df2.describe()"
   ]
  },
  {
   "cell_type": "code",
   "execution_count": null,
   "id": "f5087104-d5e9-4dca-8e7e-c1545f36d9b3",
   "metadata": {},
   "outputs": [],
   "source": []
  },
  {
   "cell_type": "code",
   "execution_count": null,
   "id": "4b6c3b09-9289-45f3-bf9f-d8ab0abee927",
   "metadata": {},
   "outputs": [],
   "source": [
    "# Plotting line chart between sepalLength and sepalWidth\n",
    "plt.plot(df2['SepalLengthCm'], 'r', label = 'SepalLengthCm')\n",
    "plt.plot(df2['SepalWidthCm'], 'g', label = 'SepalWidthCm')\n",
    "plt.title('Iris Flower Sepal')\n",
    "plt.grid(True)\n",
    "plt.legend()\n",
    "plt.show()"
   ]
  },
  {
   "cell_type": "code",
   "execution_count": null,
   "id": "b8af940c-044a-44b9-9cf1-86bdac103e39",
   "metadata": {},
   "outputs": [],
   "source": [
    "# Plotting line chart between petalLength and petalWidth\n",
    "plt.plot(df2['PetalLengthCm'], 'r', label = 'PetalLengthCm')\n",
    "plt.plot(df2['PetalWidthCm'], 'g', label = 'PetalWidthCm')\n",
    "plt.title('Iris Flower Petal')\n",
    "plt.grid(True)\n",
    "plt.legend()\n",
    "plt.show()"
   ]
  },
  {
   "cell_type": "code",
   "execution_count": null,
   "id": "cb135cfe-01da-45f8-b643-e417220dcb5e",
   "metadata": {},
   "outputs": [],
   "source": [
    "# Scatter plot \n",
    "plt.scatter(df2['SepalLengthCm'],df2['PetalLengthCm'])\n",
    "plt.title('Iris Flower Petal vs Sepal length')\n",
    "plt.xlabel('Sepal length')\n",
    "plt.ylabel('Petal length')\n",
    "plt.colorbar()\n",
    "plt.grid(True)\n",
    "plt.show()"
   ]
  },
  {
   "cell_type": "code",
   "execution_count": null,
   "id": "7e41741a-2da0-4343-9e94-7a02828ebd7a",
   "metadata": {},
   "outputs": [],
   "source": [
    "plt.scatter(df2['SepalWidthCm'],df2['PetalWidthCm'])\n",
    "plt.title('Iris Flower Petal vs Sepal width')\n",
    "plt.xlabel('Sepal width')\n",
    "plt.ylabel('Petal width')\n",
    "plt.colorbar()\n",
    "plt.grid(True)\n",
    "plt.show()"
   ]
  },
  {
   "cell_type": "code",
   "execution_count": null,
   "id": "558d668b-4e78-4732-8bea-3057c48137b6",
   "metadata": {},
   "outputs": [],
   "source": [
    "# Data Visualization with seaborn\n",
    "sns.pairplot(df)\n",
    "plt.show()"
   ]
  },
  {
   "cell_type": "code",
   "execution_count": null,
   "id": "6910af29-a1a3-4e14-b12c-a70f908f7e4b",
   "metadata": {},
   "outputs": [],
   "source": []
  }
 ],
 "metadata": {
  "kernelspec": {
   "display_name": "Python 3 (ipykernel)",
   "language": "python",
   "name": "python3"
  },
  "language_info": {
   "codemirror_mode": {
    "name": "ipython",
    "version": 3
   },
   "file_extension": ".py",
   "mimetype": "text/x-python",
   "name": "python",
   "nbconvert_exporter": "python",
   "pygments_lexer": "ipython3",
   "version": "3.11.9"
  }
 },
 "nbformat": 4,
 "nbformat_minor": 5
}
